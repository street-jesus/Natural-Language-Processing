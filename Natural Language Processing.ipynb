{
 "cells": [
  {
   "cell_type": "code",
   "execution_count": 39,
   "id": "9aafae76",
   "metadata": {},
   "outputs": [
    {
     "name": "stdout",
     "output_type": "stream",
     "text": [
      "Too many parameters - data/aclImdb\n"
     ]
    }
   ],
   "source": [
    "!tree -L data/aclImdb"
   ]
  },
  {
   "cell_type": "code",
   "execution_count": 40,
   "id": "f0ce2803",
   "metadata": {},
   "outputs": [
    {
     "name": "stdout",
     "output_type": "stream",
     "text": [
      "type of text_train <class 'list'>\n",
      "length of text_train 25000\n",
      "first review in text_train\n",
      " b\"Zero Day leads you to think, even re-think why two boys/young men would do what they did - commit mutual suicide via slaughtering their classmates. It captures what must be beyond a bizarre mode of being for two humans who have decided to withdraw from common civility in order to define their own/mutual world via coupled destruction.<br /><br />It is not a perfect movie but given what money/time the filmmaker and actors had - it is a remarkable product. In terms of explaining the motives and actions of the two young suicide/murderers it is better than 'Elephant' - in terms of being a film that gets under our 'rationalistic' skin it is a far, far better film than almost anything you are likely to see. <br /><br />Flawed but honest with a terrible honesty.\"\n"
     ]
    }
   ],
   "source": [
    "import sklearn\n",
    "from sklearn.datasets import load_files\n",
    "#load_files function is used when a dataset has its labels as subfolders\n",
    "reviews_train = load_files(\".\\\\aclImdb\\\\train\")\n",
    "type(reviews_train)\n",
    "text_train, y_train = reviews_train.data, reviews_train.target\n",
    "print(f\"type of text_train {type(text_train)}\")\n",
    "print(f\"length of text_train {len(text_train)}\")\n",
    "print(f\"first review in text_train\\n {text_train[0]}\")"
   ]
  },
  {
   "cell_type": "code",
   "execution_count": 41,
   "id": "7e314729",
   "metadata": {},
   "outputs": [],
   "source": [
    "text_train = [doc.replace(b\"<br />\", b\"\") for doc in text_train]"
   ]
  },
  {
   "cell_type": "code",
   "execution_count": 42,
   "id": "17fd2e10",
   "metadata": {},
   "outputs": [
    {
     "name": "stdout",
     "output_type": "stream",
     "text": [
      "sample size per class [12500 12500]\n"
     ]
    }
   ],
   "source": [
    "import numpy as np\n",
    "print(\"sample size per class {}\".format(np.bincount(y_train)))"
   ]
  },
  {
   "cell_type": "code",
   "execution_count": 43,
   "id": "a2170ed9",
   "metadata": {},
   "outputs": [
    {
     "data": {
      "text/plain": [
       "array([0, 1])"
      ]
     },
     "execution_count": 43,
     "metadata": {},
     "output_type": "execute_result"
    }
   ],
   "source": [
    "#np.unique(y_train)"
   ]
  },
  {
   "cell_type": "code",
   "execution_count": 51,
   "id": "fe8c9bd2",
   "metadata": {},
   "outputs": [
    {
     "name": "stdout",
     "output_type": "stream",
     "text": [
      "Number of documents in the test data25000\n",
      "Samples per class[12500 12500]\n"
     ]
    }
   ],
   "source": [
    "reviews_test = load_files(\".\\\\aclImdb\\\\test\")\n",
    "text_test, y_test = reviews_test.data, reviews_test.target\n",
    "print(\"Number of documents in the test data{}\".format(len(text_test)))\n",
    "print(\"Samples per class{}\".format(np.bincount(y_test)))\n",
    "#print(\"first review test{}:\".format(y_test[0]))\n",
    "text_test = [doc.replace(b\"<br />\", b\"\") for doc in text_test]"
   ]
  },
  {
   "cell_type": "code",
   "execution_count": 55,
   "id": "3fabe89a",
   "metadata": {},
   "outputs": [
    {
     "name": "stdout",
     "output_type": "stream",
     "text": [
      "first review test \n",
      "b\"Don't hate Heather Graham because she's beautiful, hate her because she's fun to watch in this movie. Like the hip clothing and funky surroundings, the actors in this flick work well together. Casey Affleck is hysterical and Heather Graham literally lights up the screen. The minor characters - Goran Visnjic {sigh} and Patricia Velazquez are as TALENTED as they are gorgeous. Congratulations Miramax & Director Lisa Krueger!\":\n",
      "first review test \n",
      "1:\n"
     ]
    }
   ],
   "source": [
    "print(\"first review test \\n{}:\".format(text_test[0]))\n",
    "print(\"first review test \\n{}:\".format(y_test[0]))"
   ]
  },
  {
   "cell_type": "code",
   "execution_count": null,
   "id": "b4672e16",
   "metadata": {},
   "outputs": [],
   "source": []
  }
 ],
 "metadata": {
  "kernelspec": {
   "display_name": "Python 3 (ipykernel)",
   "language": "python",
   "name": "python3"
  },
  "language_info": {
   "codemirror_mode": {
    "name": "ipython",
    "version": 3
   },
   "file_extension": ".py",
   "mimetype": "text/x-python",
   "name": "python",
   "nbconvert_exporter": "python",
   "pygments_lexer": "ipython3",
   "version": "3.10.9"
  }
 },
 "nbformat": 4,
 "nbformat_minor": 5
}
